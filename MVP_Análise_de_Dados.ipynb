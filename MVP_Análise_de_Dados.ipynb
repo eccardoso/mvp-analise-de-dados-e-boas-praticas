{
  "nbformat": 4,
  "nbformat_minor": 0,
  "metadata": {
    "colab": {
      "provenance": [],
      "authorship_tag": "ABX9TyNnrehzqQ0x7nZ2jrbfvA9x",
      "include_colab_link": true
    },
    "kernelspec": {
      "name": "python3",
      "display_name": "Python 3"
    },
    "language_info": {
      "name": "python"
    }
  },
  "cells": [
    {
      "cell_type": "markdown",
      "metadata": {
        "id": "view-in-github",
        "colab_type": "text"
      },
      "source": [
        "<a href=\"https://colab.research.google.com/github/eccardoso/mvp-analise-de-dados-e-boas-praticas/blob/main/MVP_An%C3%A1lise_de_Dados.ipynb\" target=\"_parent\"><img src=\"https://colab.research.google.com/assets/colab-badge.svg\" alt=\"Open In Colab\"/></a>"
      ]
    },
    {
      "cell_type": "markdown",
      "source": [
        "# MVP de Análise de Dados e Boas Práticas\n",
        "**Edson da Costa Cardoso**\n",
        "\n",
        "**MVP**\n",
        "\n",
        "O que não está detalhado ou pode ser melhorado neste notebook para ficar como esperamos para o MVP:\n",
        "\n",
        "Blocos de texto que expliquem textualmente cada etapa e cada decisão do seu código, contando uma história completa e compreensível, do início ao fim;\n",
        "Boas práticas de codificação;\n",
        "Após cada gráfico, escrever 1 parágrafo resumindo os principais achados, analisando os resultados e levantando eventuais pontos de atenção.\n",
        "\n",
        "### **1. Definição do Problema**\n",
        "\n",
        "\n",
        "\n",
        "\n",
        "O dataset usado neste projeto será a base de Dados de Violência no Estado do Rio de Janeiro no período de Jan/2014 a Fev/2021 por municipio e tipos de crimes. Seu objetivo é prever se um paciente tem ou não diabetes, com base em certas medidas de diagnóstico médico. Este dataset é um subconjunto do dataset original e aqui, todos os pacientes são mulheres com pelo menos 21 anos de idade e de herança indígena Pima. O dataset apresenta em diversos atributos relacionados a dados médicos e uma variável de classe binária (0 ou 1). As variáveis ​​preditoras incluem o número de gestações que a paciente teve, seu IMC, nível de insulina, idade e assim por diante. Para mais detalhes sobre este dataset, consulte: https://www.kaggle.com/uciml/pima-indians-diabetes-database"
      ],
      "metadata": {
        "id": "HxtxzbeOIFcE"
      }
    },
    {
      "cell_type": "code",
      "source": [],
      "metadata": {
        "id": "lPqIEzDaIKLd"
      },
      "execution_count": null,
      "outputs": []
    }
  ]
}